{
 "cells": [
  {
   "cell_type": "code",
   "execution_count": 1,
   "metadata": {},
   "outputs": [
    {
     "name": "stderr",
     "output_type": "stream",
     "text": [
      "/Users/giuliacrocioni/miniforge3/envs/deeprankcore/lib/python3.10/site-packages/tqdm/auto.py:22: TqdmWarning: IProgress not found. Please update jupyter and ipywidgets. See https://ipywidgets.readthedocs.io/en/stable/user_install.html\n",
      "  from .autonotebook import tqdm as notebook_tqdm\n"
     ]
    }
   ],
   "source": [
    "import h5py\n",
    "import pandas as pd\n",
    "from deeprankcore.dataset import GraphDataset\n",
    "from typing import List, Union"
   ]
  },
  {
   "cell_type": "code",
   "execution_count": 2,
   "metadata": {},
   "outputs": [
    {
     "name": "stdout",
     "output_type": "stream",
     "text": [
      "Node features:\n",
      "\n",
      "res_type\n",
      "(165, 20)\n",
      "<class 'numpy.ndarray'>\n",
      "Min:\n",
      "0.0\n",
      "Max:\n",
      "1.0\n",
      "\n",
      "\n",
      "res_charge\n",
      "(165,)\n",
      "<class 'numpy.ndarray'>\n",
      "Min:\n",
      "-1.65\n",
      "Max:\n",
      "0.0\n",
      "\n",
      "\n",
      "res_size\n",
      "(165,)\n",
      "<class 'numpy.ndarray'>\n",
      "Min:\n",
      "0\n",
      "Max:\n",
      "10\n",
      "\n",
      "\n",
      "polarity\n",
      "(165, 4)\n",
      "<class 'numpy.ndarray'>\n",
      "Min:\n",
      "0.0\n",
      "Max:\n",
      "1.0\n",
      "\n",
      "\n",
      "hb_donors\n",
      "(165,)\n",
      "<class 'numpy.ndarray'>\n",
      "Min:\n",
      "0\n",
      "Max:\n",
      "5\n",
      "\n",
      "\n",
      "hb_acceptors\n",
      "(165,)\n",
      "<class 'numpy.ndarray'>\n",
      "Min:\n",
      "0\n",
      "Max:\n",
      "4\n",
      "\n",
      "\n",
      "pssm\n",
      "(165, 20)\n",
      "<class 'numpy.ndarray'>\n",
      "Min:\n",
      "-4.0\n",
      "Max:\n",
      "11.0\n",
      "\n",
      "\n",
      "info_content\n",
      "(165,)\n",
      "<class 'numpy.ndarray'>\n",
      "Min:\n",
      "0.0\n",
      "Max:\n",
      "2.33\n",
      "\n",
      "\n",
      "bsa\n",
      "(165,)\n",
      "<class 'numpy.ndarray'>\n",
      "Min:\n",
      "0.0\n",
      "Max:\n",
      "211.9266056718234\n",
      "\n",
      "\n",
      "hse\n",
      "(165, 3)\n",
      "<class 'numpy.ndarray'>\n",
      "Min:\n",
      "0.0\n",
      "Max:\n",
      "28.0\n",
      "\n",
      "\n",
      "sasa\n",
      "(165,)\n",
      "<class 'numpy.ndarray'>\n",
      "Min:\n",
      "0.0\n",
      "Max:\n",
      "182.90009607344837\n",
      "\n",
      "\n",
      "res_depth\n",
      "(165,)\n",
      "<class 'numpy.ndarray'>\n",
      "Min:\n",
      "1.672157916125892\n",
      "Max:\n",
      "5.935929233676673\n",
      "\n",
      "\n",
      "Edge features:\n",
      "\n",
      "same_chain\n",
      "(5670,)\n",
      "<class 'numpy.ndarray'>\n",
      "Min:\n",
      "0.0\n",
      "Max:\n",
      "1.0\n",
      "\n",
      "\n",
      "distance\n",
      "(5670,)\n",
      "<class 'numpy.ndarray'>\n",
      "Min:\n",
      "1.306496842705713\n",
      "Max:\n",
      "14.998359676978012\n",
      "\n",
      "\n",
      "covalent\n",
      "(5670,)\n",
      "<class 'numpy.ndarray'>\n",
      "Min:\n",
      "0.0\n",
      "Max:\n",
      "1.0\n",
      "\n",
      "\n",
      "electrostatic\n",
      "(5670,)\n",
      "<class 'numpy.ndarray'>\n",
      "Min:\n",
      "-31.928319655222147\n",
      "Max:\n",
      "600.7717933516915\n",
      "\n",
      "\n",
      "vanderwaals\n",
      "(5670,)\n",
      "<class 'numpy.ndarray'>\n",
      "Min:\n",
      "-147.43082765041564\n",
      "Max:\n",
      "1913337.8368785947\n",
      "\n",
      "\n"
     ]
    }
   ],
   "source": [
    "run_day_data = '17102022'\n",
    "resolution_data = 'residue' # either 'residue' or 'atomic'\n",
    "protein_class = 'I'\n",
    "project_folder = '/Users/giuliacrocioni/Desktop/docs/eScience/projects/3D-vac/snellius_50/' # local resized df path\n",
    "folder_data = f'{project_folder}data/pMHC{protein_class}/features_output_folder/GNN/{resolution_data}/{run_day_data}'\n",
    "\n",
    "node_features = [\n",
    "    \"res_type\",\n",
    "    \"res_charge\",\n",
    "    \"res_size\",\n",
    "    \"polarity\",\n",
    "    \"hb_donors\",\n",
    "    \"hb_acceptors\",\n",
    "    \"pssm\", \n",
    "    \"info_content\",\n",
    "    \"bsa\",\n",
    "    \"hse\",\n",
    "    \"sasa\",\n",
    "    \"res_depth\"]\n",
    "edge_features = [\n",
    "    \"same_chain\",\n",
    "    \"distance\",\n",
    "    \"covalent\",\n",
    "    \"electrostatic\",\n",
    "    \"vanderwaals\"]\n",
    "\n",
    "input_data_path = folder_data + '/' + resolution_data + '.hdf5'\n",
    "with h5py.File(input_data_path, 'r') as hdf5:\n",
    "    for mol in hdf5.keys():\n",
    "\n",
    "        print('Node features:\\n')\n",
    "        for feat in node_features:\n",
    "            print(feat)\n",
    "            print(hdf5[mol]['node_features'][feat][:].shape)\n",
    "            print(type(hdf5[mol]['node_features'][feat][:]))\n",
    "            print('Min:')\n",
    "            print(hdf5[mol]['node_features'][feat][:].min())\n",
    "            print('Max:')\n",
    "            print(hdf5[mol]['node_features'][feat][:].max())\n",
    "            print('\\n')\n",
    "\n",
    "        print('Edge features:\\n')\n",
    "        for feat in edge_features:\n",
    "            print(feat)\n",
    "            print(hdf5[mol]['edge_features'][feat][:].shape)\n",
    "            print(type(hdf5[mol]['edge_features'][feat][:]))\n",
    "            print('Min:')\n",
    "            print(hdf5[mol]['edge_features'][feat][:].min())\n",
    "            print('Max:')\n",
    "            print(hdf5[mol]['edge_features'][feat][:].max())\n",
    "            print('\\n')\n",
    "        break"
   ]
  },
  {
   "cell_type": "code",
   "execution_count": 18,
   "metadata": {},
   "outputs": [
    {
     "data": {
      "text/plain": [
       "<module 'deeprankcore.tools.transform' from '/Users/giuliacrocioni/Desktop/docs/eScience/projects/3D-vac/deeprank-core/deeprankcore/tools/transform.py'>"
      ]
     },
     "execution_count": 18,
     "metadata": {},
     "output_type": "execute_result"
    }
   ],
   "source": [
    "from deeprankcore.tools import transform\n",
    "import imp\n",
    "imp.reload(transform)"
   ]
  },
  {
   "cell_type": "code",
   "execution_count": 19,
   "metadata": {},
   "outputs": [],
   "source": [
    "node_features_n, edge_features_n, targets = transform.hdf5_to_pandas(input_data_path, target_features='binary')"
   ]
  },
  {
   "cell_type": "code",
   "execution_count": 20,
   "metadata": {},
   "outputs": [
    {
     "name": "stdout",
     "output_type": "stream",
     "text": [
      "['bsa', 'hb_acceptors', 'hb_donors', 'hse', 'info_content', 'polarity', 'pssm', 'res_charge', 'res_depth', 'res_size', 'res_type', 'sasa']\n",
      "['covalent', 'distance', 'electrostatic', 'same_chain', 'vanderwaals']\n",
      "['BA', 'binary', 'cluster']\n"
     ]
    }
   ],
   "source": [
    "print(node_features_n)\n",
    "print(edge_features_n)\n",
    "print(targets)"
   ]
  },
  {
   "cell_type": "code",
   "execution_count": 6,
   "metadata": {},
   "outputs": [
    {
     "name": "stdout",
     "output_type": "stream",
     "text": [
      "['res_type', 'res_charge', 'res_size', 'polarity', 'hb_donors', 'hb_acceptors', 'pssm', 'info_content', 'bsa', 'hse', 'sasa', 'res_depth']\n",
      "['same_chain', 'distance', 'covalent', 'electrostatic', 'vanderwaals']\n"
     ]
    }
   ],
   "source": [
    "print(node_features)\n",
    "print(edge_features)"
   ]
  },
  {
   "cell_type": "code",
   "execution_count": null,
   "metadata": {},
   "outputs": [],
   "source": []
  }
 ],
 "metadata": {
  "kernelspec": {
   "display_name": "Python 3.10.6 ('deeprankcore')",
   "language": "python",
   "name": "python3"
  },
  "language_info": {
   "codemirror_mode": {
    "name": "ipython",
    "version": 3
   },
   "file_extension": ".py",
   "mimetype": "text/x-python",
   "name": "python",
   "nbconvert_exporter": "python",
   "pygments_lexer": "ipython3",
   "version": "3.10.6"
  },
  "orig_nbformat": 4,
  "vscode": {
   "interpreter": {
    "hash": "9044f9e9bb2984c6e66c1f9356a97652bc688d95c3fd9413d1ef7214abf67660"
   }
  }
 },
 "nbformat": 4,
 "nbformat_minor": 2
}
