{
 "cells": [
  {
   "cell_type": "code",
   "execution_count": 72,
   "metadata": {},
   "outputs": [
    {
     "ename": "SyntaxError",
     "evalue": "expected ':' (2480970219.py, line 26)",
     "output_type": "error",
     "traceback": [
      "\u001b[0;36m  Cell \u001b[0;32mIn [72], line 26\u001b[0;36m\u001b[0m\n\u001b[0;31m    for _ in range(5)\u001b[0m\n\u001b[0m                     ^\u001b[0m\n\u001b[0;31mSyntaxError\u001b[0m\u001b[0;31m:\u001b[0m expected ':'\n"
     ]
    }
   ],
   "source": [
    "import os\n",
    "import shutil\n",
    "from tempfile import mkdtemp, mkstemp\n",
    "\n",
    "import h5py\n",
    "import numpy as np\n",
    "\n",
    "from deeprankcore.dataset import GraphDataset, GridDataset\n",
    "from deeprankcore.domain import edgestorage as Efeat\n",
    "from deeprankcore.domain import nodestorage as Nfeat\n",
    "from deeprankcore.domain import targetstorage as targets\n",
    "from deeprankcore.domain.aminoacidlist import (alanine, arginine, asparagine,\n",
    "                                               glutamate, glycine, leucine,\n",
    "                                               lysine, phenylalanine)\n",
    "from deeprankcore.features import (components, conservation, contact,\n",
    "                                   surfacearea)\n",
    "from deeprankcore.query import (ProteinProteinInterfaceAtomicQuery,\n",
    "                                ProteinProteinInterfaceResidueQuery,\n",
    "                                QueryCollection,\n",
    "                                SingleResidueVariantAtomicQuery,\n",
    "                                SingleResidueVariantResidueQuery)\n",
    "from deeprankcore.utils.grid import GridSettings, MapMethod\n",
    "\n",
    "qc = QueryCollection()\n",
    "\n",
    "for _ in range(5): \n",
    "    qc.add(ProteinProteinInterfaceResidueQuery(\n",
    "        \"tests/data/pdb/3C8P/3C8P.pdb\",\n",
    "        \"A\",\n",
    "        \"B\",\n",
    "        {\n",
    "            \"A\": \"tests/data/pssm/3C8P/3C8P.A.pdb.pssm\",\n",
    "            \"B\": \"tests/data/pssm/3C8P/3C8P.B.pdb.pssm\",\n",
    "        },\n",
    "        targets={targets.BINARY: 1.2},\n",
    "    ))\n",
    "\n",
    "augmentation_count = 3\n",
    "grid_settings = GridSettings([20, 20, 20], [1.0, 1.0, 1.0])\n",
    "\n",
    "expected_entry_count = (augmentation_count + 1) * len(qc)\n",
    "\n",
    "try:\n",
    "    qc.process(f\"new_test\",\n",
    "                feature_modules=None,\n",
    "                grid_settings=grid_settings,\n",
    "                grid_map_method=MapMethod.GAUSSIAN,\n",
    "                grid_augmentation_count=augmentation_count)\n",
    "\n",
    "    hdf5_path = f\"new_test.hdf5\"\n",
    "\n",
    "    with h5py.File(hdf5_path, 'r') as f5:\n",
    "        entry_names = list(f5.keys())\n",
    "\n",
    "    dataset = GridDataset(hdf5_path)"
   ]
  },
  {
   "cell_type": "code",
   "execution_count": null,
   "metadata": {},
   "outputs": [],
   "source": []
  }
 ],
 "metadata": {
  "language_info": {
   "name": "python"
  },
  "orig_nbformat": 4
 },
 "nbformat": 4,
 "nbformat_minor": 2
}
