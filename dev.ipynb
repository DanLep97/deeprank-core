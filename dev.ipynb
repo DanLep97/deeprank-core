{
 "cells": [
  {
   "cell_type": "code",
   "execution_count": 1,
   "metadata": {},
   "outputs": [
    {
     "name": "stderr",
     "output_type": "stream",
     "text": [
      "/Users/giuliacrocioni/miniforge3/envs/deeprankcore/lib/python3.10/site-packages/tqdm/auto.py:22: TqdmWarning: IProgress not found. Please update jupyter and ipywidgets. See https://ipywidgets.readthedocs.io/en/stable/user_install.html\n",
      "  from .autonotebook import tqdm as notebook_tqdm\n"
     ]
    },
    {
     "name": "stdout",
     "output_type": "stream",
     "text": [
      "   ['tests/data/hdf5/1ATN_ppi.hdf5'] dataset                 : 100%|██████████| 1/1 [00:00<00:00, 325.75it/s, entry_name=1ATN_ppi.hdf5]\n"
     ]
    }
   ],
   "source": [
    "from deeprankcore.dataset import GridDataset\n",
    "import h5py\n",
    "import pandas as pd\n",
    "import numpy as np\n",
    "import matplotlib.pyplot as plt\n",
    "hdf5_path = \"tests/data/hdf5/1ATN_ppi.hdf5\"\n",
    "#hdf5_path = '/Users/giuliacrocioni/Desktop/docs/eScience/projects/3D-vac/deeprank-core/tests/data/hdf5/train.hdf5'\n",
    "dataset = GridDataset(hdf5_path, target = 'binary')"
   ]
  },
  {
   "cell_type": "code",
   "execution_count": 7,
   "metadata": {},
   "outputs": [
    {
     "data": {
      "text/plain": [
       "{'mapped_features': ['_position_000',\n",
       "  '_position_001',\n",
       "  '_position_002',\n",
       "  'covalent',\n",
       "  'distance',\n",
       "  'electrostatic',\n",
       "  'same_chain',\n",
       "  'vanderwaals'],\n",
       " 'target_values': ['binary']}"
      ]
     },
     "execution_count": 7,
     "metadata": {},
     "output_type": "execute_result"
    }
   ],
   "source": [
    "dataset.features_dict"
   ]
  },
  {
   "cell_type": "code",
   "execution_count": 14,
   "metadata": {},
   "outputs": [
    {
     "name": "stdout",
     "output_type": "stream",
     "text": [
      "residue-ppi-1ATN_1w:A-B\n",
      "mapped_features\n",
      "_position_000\n",
      "<HDF5 group \"/residue-ppi-1ATN_1w:A-B/mapped_features/_position_000\" (1 members)>\n",
      "residue-ppi-1ATN_1w:A-B\n",
      "target_values\n",
      "binary\n",
      "<HDF5 dataset \"binary\": shape (), type \"|b1\">\n"
     ]
    }
   ],
   "source": [
    "df_final = pd.DataFrame()\n",
    "\n",
    "for fname in [hdf5_path]:\n",
    "    with h5py.File(fname, 'r') as f:\n",
    "\n",
    "        entry_name = list(f.keys())[0]\n",
    "        \n",
    "\n",
    "        entry_names = [entry for entry, _ in f.items()]\n",
    "\n",
    "        df_dict = {}\n",
    "        df_dict['id'] = entry_names\n",
    "\n",
    "        for feat_type in dataset.features_dict:\n",
    "            for feat in dataset.features_dict[feat_type]:\n",
    "                print(entry_name)\n",
    "                print(feat_type)\n",
    "                print(feat)\n",
    "                print(f[entry_name][feat_type][feat])\n",
    "                break\n",
    "                if f[entry_name][feat_type][feat][()].ndim == 2:\n",
    "                    for i in range(f[entry_name][feat_type][feat][:].shape[1]):\n",
    "                        df_dict[feat + '_' + str(i)] = [f[entry_name][feat_type][feat][:][:,i] for entry_name in entry_names]\n",
    "                else:\n",
    "                    df_dict[feat] = [\n",
    "                        f[entry_name][feat_type][feat][:]\n",
    "                        if f[entry_name][feat_type][feat][()].ndim == 1\n",
    "                        else f[entry_name][feat_type][feat][()] for entry_name in entry_names]\n",
    "\n",
    "#         df = pd.DataFrame(data=df_dict)\n",
    "\n",
    "#     df_final = pd.concat([df_final, df])\n",
    "\n",
    "# df_final.reset_index(drop=True, inplace=True)\n",
    "# self.df = df_final"
   ]
  },
  {
   "cell_type": "code",
   "execution_count": 6,
   "metadata": {},
   "outputs": [
    {
     "data": {
      "text/plain": [
       "{'id': ['residue-ppi-1ATN_1w:A-B',\n",
       "  'residue-ppi-1ATN_2w:A-B',\n",
       "  'residue-ppi-1ATN_3w:A-B',\n",
       "  'residue-ppi-1ATN_4w:A-B']}"
      ]
     },
     "execution_count": 6,
     "metadata": {},
     "output_type": "execute_result"
    }
   ],
   "source": [
    "df_dict"
   ]
  },
  {
   "cell_type": "code",
   "execution_count": 3,
   "metadata": {},
   "outputs": [
    {
     "name": "stderr",
     "output_type": "stream",
     "text": [
      "/Users/giuliacrocioni/Desktop/docs/eScience/projects/3D-vac/deeprank-core/deeprankcore/dataset.py:521: UserWarning: Creating a tensor from a list of numpy.ndarrays is extremely slow. Please consider converting the list to a single numpy.ndarray with numpy.array() before converting to a tensor. (Triggered internally at  /Users/runner/miniforge3/conda-bld/pytorch-recipe_1654951287008/work/torch/csrc/utils/tensor_new.cpp:210.)\n",
      "  data = Data(x=torch.tensor([feature_data], dtype=torch.float),\n"
     ]
    },
    {
     "data": {
      "text/plain": [
       "Data(x=[1, 8, 20, 20, 20], y=[1], entry_names='residue-ppi-1ATN_1w:A-B')"
      ]
     },
     "execution_count": 3,
     "metadata": {},
     "output_type": "execute_result"
    }
   ],
   "source": [
    "dataset.get(0)"
   ]
  }
 ],
 "metadata": {
  "kernelspec": {
   "display_name": "deeprankcore",
   "language": "python",
   "name": "python3"
  },
  "language_info": {
   "codemirror_mode": {
    "name": "ipython",
    "version": 3
   },
   "file_extension": ".py",
   "mimetype": "text/x-python",
   "name": "python",
   "nbconvert_exporter": "python",
   "pygments_lexer": "ipython3",
   "version": "3.10.6"
  },
  "orig_nbformat": 4,
  "vscode": {
   "interpreter": {
    "hash": "9044f9e9bb2984c6e66c1f9356a97652bc688d95c3fd9413d1ef7214abf67660"
   }
  }
 },
 "nbformat": 4,
 "nbformat_minor": 2
}
