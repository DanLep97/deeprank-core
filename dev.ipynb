{
 "cells": [
  {
   "cell_type": "code",
   "execution_count": 1,
   "metadata": {},
   "outputs": [
    {
     "name": "stderr",
     "output_type": "stream",
     "text": [
      "/var/folders/js/v54t24f101585t5fkkx3qpkh0000gn/T/ipykernel_74237/1054045491.py:1: DeprecationWarning: the imp module is deprecated in favour of importlib and slated for removal in Python 3.12; see the module's documentation for alternative uses\n",
      "  import imp\n",
      "/Users/giuliacrocioni/miniforge3/envs/deeprankcore/lib/python3.10/site-packages/tqdm/auto.py:22: TqdmWarning: IProgress not found. Please update jupyter and ipywidgets. See https://ipywidgets.readthedocs.io/en/stable/user_install.html\n",
      "  from .autonotebook import tqdm as notebook_tqdm\n"
     ]
    },
    {
     "data": {
      "text/plain": [
       "<module 'deeprankcore.trainer' from '/Users/giuliacrocioni/Desktop/docs/eScience/projects/3D-vac/deeprank-core/deeprankcore/trainer.py'>"
      ]
     },
     "execution_count": 1,
     "metadata": {},
     "output_type": "execute_result"
    }
   ],
   "source": [
    "import imp\n",
    "from deeprankcore.utils import exporters\n",
    "from deeprankcore import trainer\n",
    "imp.reload(exporters)\n",
    "imp.reload(trainer)"
   ]
  },
  {
   "cell_type": "code",
   "execution_count": 2,
   "metadata": {},
   "outputs": [
    {
     "name": "stdout",
     "output_type": "stream",
     "text": [
      "   ['tests/data/hdf5/train.hdf5'] dataset                 : 100%|██████████| 1/1 [00:00<00:00, 181.09it/s, mol=train.hdf5]\n",
      "   ['tests/data/hdf5/valid.hdf5'] dataset                 : 100%|██████████| 1/1 [00:00<00:00, 398.74it/s, mol=valid.hdf5]\n",
      "   ['tests/data/hdf5/test.hdf5'] dataset                 : 100%|██████████| 1/1 [00:00<00:00, 344.47it/s, mol=test.hdf5]\n"
     ]
    },
    {
     "name": "stderr",
     "output_type": "stream",
     "text": [
      "100%|██████████| 44/44 [00:03<00:00, 11.77it/s]\n",
      "100%|██████████| 2/2 [00:00<00:00, 13.45it/s]\n",
      "100%|██████████| 4/4 [00:00<00:00, 11.27it/s]\n"
     ]
    }
   ],
   "source": [
    "from deeprankcore.dataset import GraphDataset\n",
    "from deeprankcore.domain import (edgestorage as Efeat, nodestorage as Nfeat,\n",
    "                                targetstorage as targets)\n",
    "from deeprankcore.neuralnets.ginet import GINet\n",
    "\n",
    "dataset_train = GraphDataset(\n",
    "    hdf5_path = 'tests/data/hdf5/train.hdf5',\n",
    "    target = targets.BINARY\n",
    ")\n",
    "\n",
    "dataset_val = GraphDataset(\n",
    "    hdf5_path = 'tests/data/hdf5/valid.hdf5',\n",
    "    target = targets.BINARY\n",
    ")\n",
    "\n",
    "dataset_test = GraphDataset(\n",
    "    hdf5_path = 'tests/data/hdf5/test.hdf5',\n",
    "    target = targets.BINARY,\n",
    ")\n",
    "\n",
    "my_trainer = trainer.Trainer(\n",
    "    GINet,\n",
    "    dataset_train,\n",
    "    dataset_val,\n",
    "    dataset_test\n",
    ")   "
   ]
  },
  {
   "cell_type": "code",
   "execution_count": 3,
   "metadata": {},
   "outputs": [
    {
     "name": "stderr",
     "output_type": "stream",
     "text": [
      "/Users/giuliacrocioni/Desktop/docs/eScience/projects/3D-vac/deeprank-core/deeprankcore/utils/metrics.py:298: PerformanceWarning: \n",
      "your performance may suffer as PyTables will pickle object types that it cannot\n",
      "map directly to c-types [inferred_type->mixed,key->block1_values] [items->Index(['phase', 'entry', 'output'], dtype='object')]\n",
      "\n",
      "  self.df.to_hdf(\n"
     ]
    }
   ],
   "source": [
    "my_trainer.train(nepoch=3, validate=True)"
   ]
  },
  {
   "cell_type": "code",
   "execution_count": 4,
   "metadata": {},
   "outputs": [
    {
     "name": "stderr",
     "output_type": "stream",
     "text": [
      "100%|██████████| 4/4 [00:00<00:00, 13.03it/s]\n"
     ]
    }
   ],
   "source": [
    "my_trainer.test()"
   ]
  },
  {
   "cell_type": "code",
   "execution_count": 9,
   "metadata": {},
   "outputs": [],
   "source": [
    "import pandas as pd\n",
    "df_testing = pd.read_hdf('output/output_exporter.hdf5', key='testing')\n",
    "df_training = pd.read_hdf('output/output_exporter.hdf5', key='training')"
   ]
  },
  {
   "cell_type": "code",
   "execution_count": 10,
   "metadata": {},
   "outputs": [],
   "source": [
    "assert len(df_training.epoch.unique()) == 4\n",
    "assert len(df_testing.epoch.unique()) == 1\n",
    "assert df_training[df_training.phase == 'training'].groupby(['epoch'], as_index=False).count().phase.unique() == 44\n",
    "assert df_training[df_training.phase == 'validation'].groupby(['epoch'], as_index=False).count().phase.unique() == 2\n",
    "assert df_testing[df_testing.phase == 'testing'].groupby(['epoch'], as_index=False).count().phase.unique() == 4\n",
    "assert df_training[df_training.phase == 'training'].shape[0] == 44*4\n",
    "assert df_training[df_training.phase == 'validation'].shape[0] == 2*4\n",
    "assert df_testing[df_testing.phase == 'testing'].shape[0] == 4"
   ]
  }
 ],
 "metadata": {
  "kernelspec": {
   "display_name": "Python 3.10.6 ('deeprankcore')",
   "language": "python",
   "name": "python3"
  },
  "language_info": {
   "codemirror_mode": {
    "name": "ipython",
    "version": 3
   },
   "file_extension": ".py",
   "mimetype": "text/x-python",
   "name": "python",
   "nbconvert_exporter": "python",
   "pygments_lexer": "ipython3",
   "version": "3.10.6"
  },
  "orig_nbformat": 4,
  "vscode": {
   "interpreter": {
    "hash": "9044f9e9bb2984c6e66c1f9356a97652bc688d95c3fd9413d1ef7214abf67660"
   }
  }
 },
 "nbformat": 4,
 "nbformat_minor": 2
}
