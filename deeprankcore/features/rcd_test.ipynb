{
 "cells": [
  {
   "cell_type": "code",
   "execution_count": 1,
   "metadata": {},
   "outputs": [],
   "source": [
    "import logging\n",
    "import numpy as np\n",
    "from typing import List\n",
    "import pdb2sql\n",
    "from deeprankcore.utils.graph import Node, Graph\n",
    "from deeprankcore.molstruct.residue import Residue\n",
    "from deeprankcore.molstruct.atom import Atom\n",
    "from deeprankcore.domain import nodestorage as Nfeat\n"
   ]
  },
  {
   "cell_type": "code",
   "execution_count": 37,
   "metadata": {},
   "outputs": [],
   "source": [
    "pdb_folder = \"/home/dbodor/git/DeepRank/deeprank-core/tests/data/pdb/\"\n",
    "pdb_file = \"1A0Z\"\n",
    "# pdb_path = pdb_folder + pdb_file + '/' + pdb_file + '_1w.pdb'\n",
    "pdb_path = pdb_folder + pdb_file + '/' + pdb_file + '.pdb'\n",
    "distance = 5.5\n",
    "\n",
    "sql = pdb2sql.interface(pdb_path)\n",
    "all_contact_pairs = sql.get_contact_residues(cutoff=distance, return_contact_pairs=True)\n",
    "\n",
    "\n"
   ]
  },
  {
   "cell_type": "code",
   "execution_count": 39,
   "metadata": {},
   "outputs": [
    {
     "name": "stdout",
     "output_type": "stream",
     "text": [
      "('A', 27, 'GLU') / 2 / [('B', 122, 'PHE'), ('B', 124, 'PRO')]\n",
      "('A', 30, 'GLU') / 1 / [('B', 124, 'PRO')]\n",
      "('A', 31, 'ARG') / 5 / [('B', 119, 'GLY'), ('B', 122, 'PHE'), ('B', 123, 'THR'), ('B', 124, 'PRO'), ('B', 127, 'GLN')]\n",
      "('A', 34, 'LEU') / 3 / [('B', 124, 'PRO'), ('B', 125, 'PRO'), ('B', 128, 'ALA')]\n",
      "('A', 35, 'SER') / 4 / [('B', 124, 'PRO'), ('B', 127, 'GLN'), ('B', 128, 'ALA'), ('B', 131, 'GLN')]\n",
      "('A', 36, 'PHE') / 3 / [('B', 108, 'ASN'), ('B', 127, 'GLN'), ('B', 131, 'GLN')]\n",
      "('A', 103, 'HIS') / 6 / [('B', 108, 'ASN'), ('B', 109, 'VAL'), ('B', 111, 'VAL'), ('B', 112, 'CYS'), ('B', 127, 'GLN'), ('B', 131, 'GLN')]\n",
      "('A', 104, 'CYS') / 1 / [('B', 127, 'GLN')]\n",
      "('A', 106, 'LEU') / 1 / [('B', 112, 'CYS')]\n",
      "('A', 107, 'VAL') / 7 / [('B', 108, 'ASN'), ('B', 111, 'VAL'), ('B', 112, 'CYS'), ('B', 115, 'ALA'), ('B', 122, 'PHE'), ('B', 127, 'GLN'), ('B', 131, 'GLN')]\n",
      "('A', 110, 'ALA') / 4 / [('B', 112, 'CYS'), ('B', 115, 'ALA'), ('B', 116, 'HIS'), ('B', 119, 'GLY')]\n",
      "('A', 111, 'ALA') / 5 / [('B', 115, 'ALA'), ('B', 116, 'HIS'), ('B', 119, 'GLY'), ('B', 120, 'LYS'), ('B', 122, 'PHE')]\n",
      "('A', 113, 'LEU') / 1 / [('B', 116, 'HIS')]\n",
      "('A', 114, 'PRO') / 1 / [('B', 116, 'HIS')]\n",
      "('A', 115, 'ALA') / 1 / [('B', 116, 'HIS')]\n",
      "('A', 117, 'PHE') / 3 / [('B', 30, 'ARG'), ('B', 112, 'CYS'), ('B', 116, 'HIS')]\n",
      "('A', 118, 'THR') / 2 / [('B', 30, 'ARG'), ('B', 116, 'HIS')]\n",
      "('A', 119, 'PRO') / 6 / [('B', 26, 'GLU'), ('B', 30, 'ARG'), ('B', 33, 'VAL'), ('B', 34, 'VAL'), ('B', 51, 'PRO'), ('B', 55, 'MET')]\n",
      "('A', 120, 'ALA') / 2 / [('B', 33, 'VAL'), ('B', 51, 'PRO')]\n",
      "('A', 122, 'HIS') / 4 / [('B', 30, 'ARG'), ('B', 34, 'VAL'), ('B', 109, 'VAL'), ('B', 112, 'CYS')]\n",
      "('A', 123, 'ALA') / 2 / [('B', 33, 'VAL'), ('B', 34, 'VAL')]\n",
      "('A', 126, 'ASP') / 2 / [('B', 34, 'VAL'), ('B', 35, 'TYR')]\n"
     ]
    }
   ],
   "source": [
    "for x in all_contact_pairs.keys():\n",
    "    print(x, '/', len(all_contact_pairs[x]), '/', all_contact_pairs[x])\n"
   ]
  },
  {
   "cell_type": "code",
   "execution_count": 50,
   "metadata": {},
   "outputs": [
    {
     "name": "stdout",
     "output_type": "stream",
     "text": [
      "22\n"
     ]
    }
   ],
   "source": [
    "res = all_contact_pairs\n",
    "\n",
    "print(len(res))\n",
    "\n",
    "\n",
    "\n",
    "for key, other_res in res.items():\n",
    "    # print(key[2])\n",
    "    continue\n"
   ]
  },
  {
   "cell_type": "code",
   "execution_count": 73,
   "metadata": {},
   "outputs": [],
   "source": [
    "from deeprankcore.domain.aminoacidlist import alanine, amino_acids\n",
    "from deeprankcore.molstruct.aminoacid import Polarity\n",
    "\n"
   ]
  },
  {
   "cell_type": "code",
   "execution_count": 86,
   "metadata": {},
   "outputs": [
    {
     "name": "stdout",
     "output_type": "stream",
     "text": [
      "no\n"
     ]
    }
   ],
   "source": [
    "# codes = [x.three_letter_code for x in amino_acids]\n",
    "\n",
    "# A = ['ARG', 'XXX', 'VAL']\n",
    "\n",
    "# # aa_code = 'XXX'\n",
    "\n",
    "# for aa_code in A:\n",
    "#     try:\n",
    "#         aa = [x for x in amino_acids if x.three_letter_code == aa_code.upper()][0]\n",
    "#     except IndexError:\n",
    "#         pass\n",
    "#     else:\n",
    "#         print(aa_code)\n",
    "\n",
    "# A = {x:0 for x in Polarity}    \n",
    "\n",
    "# for x in A.keys():\n",
    "#     print(x)\n",
    "\n",
    "\n",
    "x = {1: 1, 2:2}\n",
    "if 3 in x:\n",
    "    print ('yes')\n",
    "else:\n",
    "    print('no')"
   ]
  },
  {
   "cell_type": "code",
   "execution_count": 97,
   "metadata": {},
   "outputs": [],
   "source": [
    "import numpy as np\n",
    "from pdb2sql import pdb2sql\n",
    "from deeprankcore.features.exposure import add_features\n",
    "from deeprankcore.utils.graph import build_residue_graph\n",
    "from deeprankcore.utils.buildgraph import get_structure, get_residue_contact_pairs\n",
    "from deeprankcore.domain import nodestorage as Nfeat\n",
    "\n",
    "\n",
    "pdb_folder = \"/home/dbodor/git/DeepRank/deeprank-core/tests/data/pdb/\"\n",
    "pdb_file = \"1A0Z\"\n",
    "# pdb_path = pdb_folder + pdb_file + '/' + pdb_file + '_1w.pdb'\n",
    "pdb_path = pdb_folder + pdb_file + '/' + pdb_file + '.pdb'\n",
    "\n",
    "pdb = pdb2sql(pdb_path)\n",
    "try:\n",
    "    structure = get_structure(pdb, \"1A0Z\")\n",
    "finally:\n",
    "    pdb._close() # pylint: disable=protected-access\n",
    "\n",
    "residues = set([])\n",
    "for residue1, residue2 in get_residue_contact_pairs(\n",
    "    pdb_path, structure, \"A\", \"B\", 8.5\n",
    "):\n",
    "    residues.add(residue1)\n",
    "    residues.add(residue2)\n",
    "residues = list(residues)\n",
    "\n",
    "graph = build_residue_graph(residues, \"1A0Z\", 8.5)\n",
    "\n",
    "add_features(pdb_path, graph)\n",
    "\n"
   ]
  },
  {
   "cell_type": "code",
   "execution_count": 98,
   "metadata": {},
   "outputs": [
    {
     "data": {
      "text/plain": [
       "1A0Z B 118"
      ]
     },
     "execution_count": 98,
     "metadata": {},
     "output_type": "execute_result"
    }
   ],
   "source": [
    "graph.nodes[0].id\n"
   ]
  }
 ],
 "metadata": {
  "kernelspec": {
   "display_name": "deeprank",
   "language": "python",
   "name": "python3"
  },
  "language_info": {
   "codemirror_mode": {
    "name": "ipython",
    "version": 3
   },
   "file_extension": ".py",
   "mimetype": "text/x-python",
   "name": "python",
   "nbconvert_exporter": "python",
   "pygments_lexer": "ipython3",
   "version": "3.9.12"
  },
  "orig_nbformat": 4,
  "vscode": {
   "interpreter": {
    "hash": "276ef95c56205118bc396c7ecff9f4bbaf55abeabfc798eaf375738c8dd159eb"
   }
  }
 },
 "nbformat": 4,
 "nbformat_minor": 2
}
