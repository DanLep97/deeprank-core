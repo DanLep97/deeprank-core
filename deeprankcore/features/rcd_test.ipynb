{
 "cells": [
  {
   "cell_type": "code",
   "execution_count": null,
   "metadata": {},
   "outputs": [],
   "source": [
    "import logging\n",
    "import numpy as np\n",
    "from typing import List\n",
    "import pdb2sql\n",
    "from deeprankcore.utils.graph import Node, Graph\n",
    "from deeprankcore.molstruct.residue import Residue\n",
    "from deeprankcore.molstruct.atom import Atom\n",
    "from deeprankcore.domain import nodestorage as Nfeat\n"
   ]
  },
  {
   "cell_type": "code",
   "execution_count": null,
   "metadata": {},
   "outputs": [],
   "source": [
    "pdb_folder = \"/home/dbodor/git/DeepRank/deeprank-core/tests/data/pdb/\"\n",
    "pdb_file = \"1A0Z\"\n",
    "# pdb_path = pdb_folder + pdb_file + '/' + pdb_file + '_1w.pdb'\n",
    "pdb_path = pdb_folder + pdb_file + '/' + pdb_file + '.pdb'\n",
    "distance = 5.5\n",
    "\n",
    "sql = pdb2sql.interface(pdb_path)\n",
    "all_contact_pairs = sql.get_contact_residues(cutoff=distance, return_contact_pairs=True)\n",
    "\n",
    "\n"
   ]
  },
  {
   "cell_type": "code",
   "execution_count": null,
   "metadata": {},
   "outputs": [],
   "source": [
    "for x in all_contact_pairs.keys():\n",
    "    print(x, '/', len(all_contact_pairs[x]), '/', all_contact_pairs[x])\n"
   ]
  },
  {
   "cell_type": "code",
   "execution_count": null,
   "metadata": {},
   "outputs": [],
   "source": [
    "res = all_contact_pairs\n",
    "\n",
    "print(len(res))\n",
    "\n",
    "\n",
    "\n",
    "for key, other_res in res.items():\n",
    "    # print(key[2])\n",
    "    continue\n"
   ]
  },
  {
   "cell_type": "code",
   "execution_count": null,
   "metadata": {},
   "outputs": [],
   "source": [
    "from deeprankcore.domain.aminoacidlist import alanine, amino_acids\n",
    "from deeprankcore.molstruct.aminoacid import Polarity\n",
    "\n"
   ]
  },
  {
   "cell_type": "code",
   "execution_count": null,
   "metadata": {},
   "outputs": [],
   "source": [
    "# codes = [x.three_letter_code for x in amino_acids]\n",
    "\n",
    "# A = ['ARG', 'XXX', 'VAL']\n",
    "\n",
    "# # aa_code = 'XXX'\n",
    "\n",
    "# for aa_code in A:\n",
    "#     try:\n",
    "#         aa = [x for x in amino_acids if x.three_letter_code == aa_code.upper()][0]\n",
    "#     except IndexError:\n",
    "#         pass\n",
    "#     else:\n",
    "#         print(aa_code)\n",
    "\n",
    "# A = {x:0 for x in Polarity}    \n",
    "\n",
    "# for x in A.keys():\n",
    "#     print(x)\n",
    "\n",
    "\n",
    "x = {1: 1, 2:2}\n",
    "if 3 in x:\n",
    "    print ('yes')\n",
    "else:\n",
    "    print('no')"
   ]
  },
  {
   "cell_type": "code",
   "execution_count": null,
   "metadata": {},
   "outputs": [],
   "source": [
    "import numpy as np\n",
    "from pdb2sql import pdb2sql\n",
    "from deeprankcore.features.exposure import add_features\n",
    "from deeprankcore.utils.graph import build_residue_graph\n",
    "from deeprankcore.utils.buildgraph import get_structure, get_residue_contact_pairs\n",
    "from deeprankcore.domain import nodestorage as Nfeat\n",
    "\n",
    "\n",
    "pdb_folder = \"/home/dbodor/git/DeepRank/deeprank-core/tests/data/pdb/\"\n",
    "pdb_file = \"1A0Z\"\n",
    "# pdb_path = pdb_folder + pdb_file + '/' + pdb_file + '_1w.pdb'\n",
    "pdb_path = pdb_folder + pdb_file + '/' + pdb_file + '.pdb'\n",
    "\n",
    "pdb = pdb2sql(pdb_path)\n",
    "try:\n",
    "    structure = get_structure(pdb, \"1A0Z\")\n",
    "finally:\n",
    "    pdb._close() # pylint: disable=protected-access\n",
    "\n",
    "residues = set([])\n",
    "for residue1, residue2 in get_residue_contact_pairs(\n",
    "    pdb_path, structure, \"A\", \"B\", 8.5\n",
    "):\n",
    "    residues.add(residue1)\n",
    "    residues.add(residue2)\n",
    "residues = list(residues)\n",
    "\n",
    "graph = build_residue_graph(residues, \"1A0Z\", 8.5)\n",
    "\n",
    "add_features(pdb_path, graph)\n",
    "\n"
   ]
  },
  {
   "cell_type": "code",
   "execution_count": null,
   "metadata": {},
   "outputs": [],
   "source": [
    "Ns = [graph.nodes[0].id]\n",
    "\n",
    "chain_ids = np.array([str(K).split()[1] for K in Ns]).astype(\"S\")\n",
    "chain_ids\n",
    "\n",
    "N = graph.nodes[0].id\n",
    "chain_id = str(N).split()[1]\n",
    "resnum = str(N).split()[2]\n",
    "resnum\n",
    "\n",
    "str(graph.nodes[0].id).split()\n",
    "\n",
    "\n"
   ]
  },
  {
   "cell_type": "code",
   "execution_count": null,
   "metadata": {},
   "outputs": [],
   "source": [
    "A = ('A', 27, 'GLU')\n",
    "f'{A[0]} {A[1]}'\n",
    "\n",
    "A[0] + str(A[1])\n",
    "\n"
   ]
  }
 ],
 "metadata": {
  "kernelspec": {
   "display_name": "deeprank",
   "language": "python",
   "name": "python3"
  },
  "language_info": {
   "codemirror_mode": {
    "name": "ipython",
    "version": 3
   },
   "file_extension": ".py",
   "mimetype": "text/x-python",
   "name": "python",
   "nbconvert_exporter": "python",
   "pygments_lexer": "ipython3",
   "version": "3.9.12"
  },
  "orig_nbformat": 4,
  "vscode": {
   "interpreter": {
    "hash": "276ef95c56205118bc396c7ecff9f4bbaf55abeabfc798eaf375738c8dd159eb"
   }
  }
 },
 "nbformat": 4,
 "nbformat_minor": 2
}
