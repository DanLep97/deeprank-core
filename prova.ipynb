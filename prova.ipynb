{
 "cells": [
  {
   "cell_type": "code",
   "execution_count": 2,
   "metadata": {},
   "outputs": [],
   "source": [
    "from shutil import rmtree\n",
    "import warnings\n",
    "import os\n",
    "import h5py\n",
    "from deeprankcore.preprocess import preprocess\n",
    "from deeprankcore.query import ProteinProteinInterfaceResidueQuery\n",
    "from deeprankcore.features import components, conservation, exposure, contact, surfacearea\n",
    "from deeprankcore.DataSet import HDF5DataSet\n",
    "from deeprankcore.Trainer import Trainer\n",
    "from deeprankcore.neuralnets.ginet import GINet\n",
    "from deeprankcore.utils.metrics import OutputExporter\n",
    "from deeprankcore.tools.target import compute_targets\n",
    "from deeprankcore.domain import (edgestorage as Efeat, nodestorage as Nfeat,\n",
    "                                targetstorage as targets)\n",
    "import tempfile\n",
    "from tests._utils import PATH_TEST\n",
    "\n",
    "pdb_path = str(PATH_TEST / \"data/pdb/1ATN/1ATN_1w.pdb\")\n",
    "ref_path = str(PATH_TEST / \"data/ref/1ATN/1ATN.pdb\")\n",
    "pssm_path1 = str(PATH_TEST / \"data/pssm/1ATN/1ATN.A.pdb.pssm\")\n",
    "pssm_path2 = str(PATH_TEST / \"data/pssm/1ATN/1ATN.B.pdb.pssm\")\n",
    "chain_id1 = \"A\"\n",
    "chain_id2 = \"B\"\n",
    "\n",
    "output_directory = 'prova'\n",
    "metrics_directory = tempfile.mkdtemp()\n",
    "\n",
    "prefix = os.path.join(output_directory, \"test-preprocess\")\n",
    "\n",
    "feature_modules = [components, contact, exposure, surfacearea, conservation]\n",
    "\n",
    "all_targets = compute_targets(pdb_path, ref_path)\n",
    "\n",
    "count_queries = 3\n",
    "queries = []\n",
    "for _ in range(count_queries):\n",
    "    query = ProteinProteinInterfaceResidueQuery(\n",
    "        pdb_path,\n",
    "        chain_id1,\n",
    "        chain_id2,\n",
    "        pssm_paths={chain_id1: pssm_path1, chain_id2: pssm_path2},\n",
    "        targets = all_targets\n",
    "    )\n",
    "    queries.append(query)\n",
    "\n",
    "output_path = preprocess(feature_modules, queries, prefix, count_queries)"
   ]
  },
  {
   "cell_type": "code",
   "execution_count": 4,
   "metadata": {},
   "outputs": [
    {
     "data": {
      "text/plain": [
       "['prova/test-preprocess-69698.hdf5',\n",
       " 'prova/test-preprocess-69696.hdf5',\n",
       " 'prova/test-preprocess-69697.hdf5']"
      ]
     },
     "execution_count": 4,
     "metadata": {},
     "output_type": "execute_result"
    }
   ],
   "source": [
    "output_path"
   ]
  },
  {
   "cell_type": "code",
   "execution_count": null,
   "metadata": {},
   "outputs": [],
   "source": []
  }
 ],
 "metadata": {
  "kernelspec": {
   "display_name": "Python 3.10.6 ('deeprankcore')",
   "language": "python",
   "name": "python3"
  },
  "language_info": {
   "codemirror_mode": {
    "name": "ipython",
    "version": 3
   },
   "file_extension": ".py",
   "mimetype": "text/x-python",
   "name": "python",
   "nbconvert_exporter": "python",
   "pygments_lexer": "ipython3",
   "version": "3.10.6"
  },
  "orig_nbformat": 4,
  "vscode": {
   "interpreter": {
    "hash": "9044f9e9bb2984c6e66c1f9356a97652bc688d95c3fd9413d1ef7214abf67660"
   }
  }
 },
 "nbformat": 4,
 "nbformat_minor": 2
}
