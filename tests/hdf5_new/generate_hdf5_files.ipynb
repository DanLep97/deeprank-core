{
 "cells": [
  {
   "cell_type": "code",
   "execution_count": null,
   "metadata": {},
   "outputs": [],
   "source": [
    "from tempfile import mkdtemp\n",
    "from shutil import rmtree\n",
    "import os\n",
    "import h5py\n",
    "from deeprankcore.preprocess import preprocess\n",
    "from deeprankcore.models.query import ProteinProteinInterfaceResidueQuery\n",
    "from deeprankcore.feature import amino_acid, atomic_contact, biopython, bsa, pssm, sasa\n",
    "from tests.utils import PATH_TEST\n",
    "from deeprankcore.DataSet import HDF5DataSet\n",
    "from deeprankcore.Trainer import Trainer\n",
    "from deeprankcore.ginet import GINet\n",
    "from deeprankcore.models.metrics import OutputExporter\n",
    "from deeprankcore.tools.score import get_all_scores\n",
    "from deeprankcore.domain.features import nodefeats as Nfeat\n",
    "from deeprankcore.domain.features import edgefeats\n",
    "import tempfile\n",
    "import imp\n"
   ]
  },
  {
   "cell_type": "code",
   "execution_count": null,
   "metadata": {},
   "outputs": [],
   "source": [
    "pdb_path1 = str(PATH_TEST / \"data/pdb/1ATN/1ATN_1w.pdb\")\n",
    "pdb_path2 = str(PATH_TEST / \"data/pdb/1ATN/1ATN_2w.pdb\")\n",
    "paths = [pdb_path1, pdb_path2]\n",
    "ref_path = str(PATH_TEST / \"data/ref/1ATN/1ATN.pdb\")\n",
    "pssm_path1 = str(PATH_TEST / \"data/pssm/1ATN/1ATN.A.pdb.pssm\")\n",
    "pssm_path2 = str(PATH_TEST / \"data/pssm/1ATN/1ATN.B.pdb.pssm\")\n",
    "chain_id1 = \"A\"\n",
    "chain_id2 = \"B\"\n",
    "\n",
    "feature_modules = [amino_acid, atomic_contact, biopython, bsa, pssm, sasa]\n",
    "targets = get_all_scores(pdb_path1, ref_path)\n"
   ]
  },
  {
   "cell_type": "code",
   "execution_count": null,
   "metadata": {},
   "outputs": [],
   "source": [
    "queries = []\n",
    "for pdb_path in paths:\n",
    "    query = ProteinProteinInterfaceResidueQuery(\n",
    "        pdb_path,\n",
    "        chain_id1,\n",
    "        chain_id2,\n",
    "        pssm_paths={chain_id1: pssm_path1, chain_id2: pssm_path2},\n",
    "        targets = targets\n",
    "    )\n",
    "    queries.append(query)\n",
    "\n",
    "preprocess(feature_modules, queries, process_count=1)\n",
    "\n",
    "print('done')\n"
   ]
  }
 ],
 "metadata": {
  "kernelspec": {
   "display_name": "Python 3.9.12 64-bit ('deeprank')",
   "language": "python",
   "name": "python3"
  },
  "language_info": {
   "codemirror_mode": {
    "name": "ipython",
    "version": 3
   },
   "file_extension": ".py",
   "mimetype": "text/x-python",
   "name": "python",
   "nbconvert_exporter": "python",
   "pygments_lexer": "ipython3",
   "version": "3.9.12"
  },
  "orig_nbformat": 4,
  "vscode": {
   "interpreter": {
    "hash": "276ef95c56205118bc396c7ecff9f4bbaf55abeabfc798eaf375738c8dd159eb"
   }
  }
 },
 "nbformat": 4,
 "nbformat_minor": 2
}
