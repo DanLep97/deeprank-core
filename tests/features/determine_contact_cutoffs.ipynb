{
 "cells": [
  {
   "cell_type": "code",
   "execution_count": 1,
   "metadata": {},
   "outputs": [],
   "source": [
    "from uuid import uuid4\n",
    "from pdb2sql import pdb2sql\n",
    "import numpy as np\n",
    "from typing import List\n",
    "from scipy.spatial import distance_matrix\n",
    "from deeprankcore.molstruct.structure import Chain, PDBStructure\n",
    "from deeprankcore.molstruct.atom import Atom\n",
    "from deeprankcore.molstruct.pair import AtomicContact, ResidueContact\n",
    "from deeprankcore.molstruct.variant import SingleResidueVariant\n",
    "from deeprankcore.utils.graph import Edge, Graph\n",
    "from deeprankcore.utils.buildgraph import get_structure\n",
    "from deeprankcore.features.contact import add_features, _intra_partners\n",
    "from deeprankcore.domain.aminoacidlist import alanine\n",
    "from deeprankcore.domain import edgestorage as Efeat\n",
    "from tests.features.test_contact import _get_atom\n",
    "\n"
   ]
  },
  {
   "cell_type": "code",
   "execution_count": 2,
   "metadata": {},
   "outputs": [],
   "source": [
    "def _abs_distance(positions, atom1: List[int], atom2: List[int]):\n",
    "    pos1, pos2 = positions[atom1], positions[atom2]\n",
    "    sum_of_squares = 0\n",
    "    for i in range(3):\n",
    "        sum_of_squares += (pos1[i]-pos2[i])**2\n",
    "    return np.sqrt(sum_of_squares)\n"
   ]
  },
  {
   "cell_type": "code",
   "execution_count": 3,
   "metadata": {},
   "outputs": [
    {
     "name": "stdout",
     "output_type": "stream",
     "text": [
      "1 1.5269060219934996\n",
      "2 2.3760523984121265\n",
      "3 3.8166208876439427\n",
      "4 4.347795993374118\n",
      "Hbond, diff chain 3.0299316823981353\n",
      "close, but not connected 4.094302504700892\n",
      "far 19.142930261587434\n"
     ]
    }
   ],
   "source": [
    "pdb = pdb2sql(\"../data/pdb/1ak4/1ak4.pdb\")\n",
    "try:\n",
    "    structure = get_structure(pdb, \"101m\")\n",
    "finally:\n",
    "    pdb._close() # pylint: disable=protected-access\n",
    "\n",
    "chain_C = structure.get_chain('C')\n",
    "chain_D = structure.get_chain('D')\n",
    "\n",
    "atoms = structure.get_atoms()\n",
    "positions = np.array([atom.position for atom in atoms])\n",
    "distances = distance_matrix(positions, positions)\n",
    "\n",
    "count_atoms = len(atoms)\n",
    "\n",
    "intra_matrix = _intra_partners(distances, 3)\n",
    "\n",
    "assert intra_matrix.shape == (count_atoms, count_atoms)\n",
    "\n",
    "index_C_phe60_CE1 = atoms.index(_get_atom(chain_C, 60, \"CE1\"))\n",
    "index_C_trp121_CZ2 = atoms.index(_get_atom(chain_C, 121, \"CZ2\"))\n",
    "index_C_asn102_O = atoms.index(_get_atom(chain_C, 102, \"O\"))\n",
    "index_D_leu111_CG = atoms.index(_get_atom(chain_D, 111, \"CG\"))\n",
    "index_D_pro93_CA = atoms.index(_get_atom(chain_D, 93, \"CA\"))\n",
    "index_D_pro93_CB = atoms.index(_get_atom(chain_D, 93, \"CB\"))\n",
    "index_D_pro93_CG = atoms.index(_get_atom(chain_D, 93, \"CG\"))\n",
    "index_D_pro93_CD = atoms.index(_get_atom(chain_D, 93, \"CD\"))\n",
    "index_D_ala92_CA = atoms.index(_get_atom(chain_D, 92, \"CA\"))\n",
    "index_D_ala92_CB = atoms.index(_get_atom(chain_D, 92, \"CB\"))\n",
    "index_D_gly89_N = atoms.index(_get_atom(chain_D, 89, \"N\"))\n",
    "\n",
    "# one bond away\n",
    "print('1', _abs_distance(positions, index_D_pro93_CA, index_D_pro93_CB))\n",
    "assert intra_matrix[index_D_pro93_CA, index_D_pro93_CB]\n",
    "assert intra_matrix[index_D_pro93_CB, index_D_pro93_CA]\n",
    "\n",
    "# two bonds away\n",
    "print('2', _abs_distance(positions, index_D_pro93_CA, index_D_pro93_CG))\n",
    "assert intra_matrix[index_D_pro93_CA, index_D_pro93_CG]\n",
    "assert intra_matrix[index_D_pro93_CG, index_D_pro93_CA]\n",
    "\n",
    "# three bonds away\n",
    "print('3', _abs_distance(positions, index_D_pro93_CA, index_D_ala92_CA))\n",
    "assert intra_matrix[index_D_pro93_CA, index_D_ala92_CA]\n",
    "assert intra_matrix[index_D_ala92_CA, index_D_pro93_CA]\n",
    "\n",
    "# four bonds away\n",
    "print('4', _abs_distance(positions, index_D_pro93_CA, index_D_ala92_CB))\n",
    "assert not intra_matrix[index_D_pro93_CA, index_D_ala92_CB]\n",
    "\n",
    "# in different chain, but hydrogen bonded\n",
    "print('Hbond, diff chain', _abs_distance(positions, index_D_gly89_N, index_C_asn102_O))\n",
    "assert not intra_matrix[index_D_gly89_N, index_C_asn102_O]\n",
    "\n",
    "# close, but not connected\n",
    "print('close, but not connected', _abs_distance(positions, index_C_trp121_CZ2, index_C_phe60_CE1))\n",
    "assert not intra_matrix[index_C_trp121_CZ2, index_C_phe60_CE1]\n",
    "\n",
    "# far away from each other\n",
    "print('far', _abs_distance(positions, index_D_leu111_CG, index_D_pro93_CA))\n",
    "assert not intra_matrix[index_D_leu111_CG, index_D_pro93_CA]\n"
   ]
  },
  {
   "cell_type": "code",
   "execution_count": 8,
   "metadata": {},
   "outputs": [],
   "source": [
    "pair_12 = distances < 2.1\n",
    "\n",
    "pair_13_max = _intra_partners(distances, 2)\n",
    "pair_13_exact = np.logical_xor(pair_13_max, pair_12)\n",
    "\n",
    "pair_14_max = _intra_partners(distances, 3)\n",
    "pair_14_exact = np.logical_xor(pair_13_max, pair_14_max)\n",
    "\n",
    "\n",
    "beyond_13 = np.logical_not(pair_13_max)\n",
    "beyond_14 = np.logical_not(pair_14_max)\n"
   ]
  },
  {
   "cell_type": "code",
   "execution_count": 11,
   "metadata": {},
   "outputs": [
    {
     "name": "stdout",
     "output_type": "stream",
     "text": [
      "1-3 pairing at distance cutoff 2.9 Angstrom\n",
      "true positives: 100.00%\n",
      "false positives: 0.03%\n"
     ]
    }
   ],
   "source": [
    "# 1-3 pairing\n",
    "\n",
    "cutoff_13 = 2.9\n",
    "within_cutoff_13 = distances < 2.9\n",
    "beyond_cutoff_13 = np.logical_not(within_cutoff_13)\n",
    "\n",
    "tp13 = np.logical_and(within_cutoff_13, pair_13_max)\n",
    "fp13 = np.logical_and(within_cutoff_13, beyond_13)\n",
    "tn13 = np.logical_and(beyond_cutoff_13, beyond_13)\n",
    "fn13 = np.logical_and(beyond_cutoff_13, pair_13_max)\n",
    "\n",
    "tp13_rate = np.sum(tp13)/np.sum(pair_13_max)\n",
    "fp13_rate = np.sum(fp13)/np.sum(beyond_13)\n",
    "tn13_rate = np.sum(tn13)/np.sum(beyond_13)\n",
    "fn13_rate = np.sum(fn13)/np.sum(pair_13_max)\n",
    "\n",
    "print(f'1-3 pairing at distance cutoff {cutoff_13} Angstrom')\n",
    "print(f'true positives: {tp13_rate*100:.2f}%')\n",
    "print(f'false positives: {fp13_rate*100:.2f}%')\n",
    "# print(tn13_rate*100)\n",
    "# print(fn13_rate*100)\n"
   ]
  },
  {
   "cell_type": "code",
   "execution_count": 14,
   "metadata": {},
   "outputs": [
    {
     "name": "stdout",
     "output_type": "stream",
     "text": [
      "1-4 pairing at distance cutoff 4.2 Angstrom\n",
      "true positives: 100.00%\n",
      "false positives: 0.24%\n",
      "99.76069904628423\n"
     ]
    }
   ],
   "source": [
    "# 1-4 pairing\n",
    "\n",
    "cutoff_14 = 4.2\n",
    "within_cutoff_14 = distances < cutoff_14\n",
    "beyond_cutoff_14 = np.logical_not(within_cutoff_14)\n",
    "\n",
    "tp14 = np.logical_and(within_cutoff_14, pair_14_max)\n",
    "fp14 = np.logical_and(within_cutoff_14, beyond_14)\n",
    "tn14 = np.logical_and(beyond_cutoff_14, beyond_14)\n",
    "fn14 = np.logical_and(beyond_cutoff_14, pair_14_max)\n",
    "\n",
    "tp14_rate = np.sum(tp14)/np.sum(pair_14_max)\n",
    "fp14_rate = np.sum(fp14)/np.sum(beyond_14)\n",
    "tn14_rate = np.sum(tn14)/np.sum(beyond_14)\n",
    "fn14_rate = np.sum(fn14)/np.sum(pair_14_max)\n",
    "\n",
    "\n",
    "print(f'1-4 pairing at distance cutoff {cutoff_14} Angstrom')\n",
    "print(f'true positives: {tp14_rate*100:.2f}%')\n",
    "print(f'false positives: {fp14_rate*100:.2f}%')\n",
    "\n",
    "# print(tn14_rate*100)\n",
    "# print(fn14_rate*100)\n"
   ]
  }
 ],
 "metadata": {
  "kernelspec": {
   "display_name": "deeprank",
   "language": "python",
   "name": "python3"
  },
  "language_info": {
   "codemirror_mode": {
    "name": "ipython",
    "version": 3
   },
   "file_extension": ".py",
   "mimetype": "text/x-python",
   "name": "python",
   "nbconvert_exporter": "python",
   "pygments_lexer": "ipython3",
   "version": "3.9.12"
  },
  "orig_nbformat": 4,
  "vscode": {
   "interpreter": {
    "hash": "276ef95c56205118bc396c7ecff9f4bbaf55abeabfc798eaf375738c8dd159eb"
   }
  }
 },
 "nbformat": 4,
 "nbformat_minor": 2
}
